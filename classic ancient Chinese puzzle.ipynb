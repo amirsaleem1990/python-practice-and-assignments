{
 "cells": [
  {
   "cell_type": "code",
   "execution_count": 11,
   "metadata": {
    "collapsed": false
   },
   "outputs": [
    {
     "name": "stdout",
     "output_type": "stream",
     "text": [
      "Heads: 35, Legs: 94\n",
      "chickens: 23\n",
      "rabbits: 12\n",
      "\n",
      "     ********************     \n",
      "Heads: 36, Legs: 98\n",
      "chickens: 23\n",
      "rabbits: 13\n",
      "\n",
      "     ********************     \n",
      "Heads: 37, Legs: 102\n",
      "chickens: 23\n",
      "rabbits: 14\n",
      "\n",
      "     ********************     \n",
      "Heads: 38, Legs: 106\n",
      "chickens: 23\n",
      "rabbits: 15\n",
      "\n",
      "     ********************     \n",
      "Heads: 39, Legs: 108\n",
      "chickens: 24\n",
      "rabbits: 15\n",
      "\n",
      "     ********************     \n",
      "Heads: 40, Legs: 110\n",
      "chickens: 25\n",
      "rabbits: 15\n",
      "\n",
      "     ********************     \n"
     ]
    }
   ],
   "source": [
    "'''\n",
    "Question:\n",
    "Write a program to solve a classic ancient Chinese puzzle: \n",
    "We count 35 heads and 94 legs among the chickens and rabbits in a farm.\n",
    "How many rabbits and how many chickens do we have?\n",
    "'''\n",
    "def Chinese_puzzle(heads, legs):\n",
    "    rabbits = 0; chickens = 0; total = heads; tot = heads\n",
    "    while total != 0 and legs > 0 and heads > 0 :\n",
    "        legs -= 6; heads -= 2; rabbits += 1; chickens += 1; total -= 2\n",
    "    while total != 0 or legs != 0 or heads != 0 :\n",
    "        legs += 4; heads += 1; rabbits -= 1; total += 1\n",
    "        if (tot-(rabbits+chickens))*2 == legs:\n",
    "            legs -= (total * 2); heads -= total; chickens += total\n",
    "            print('chickens: ' + str(chickens)); print('rabbits: '+ str(rabbits))\n",
    "            return ''\n",
    "# for test:\n",
    "a = [35, 94]\n",
    "for i in range(3):\n",
    "    print('Heads: ' + str(a[0]) + ', Legs: ' + str(a[1]))\n",
    "    print(Chinese_puzzle(a[0], a[1]))\n",
    "    a[0] += 1; a[1] += 4\n",
    "    print(('*'*20).center(30))\n",
    "for i in range(3):\n",
    "    print('Heads: ' + str(a[0]) + ', Legs: ' + str(a[1]))\n",
    "    print(Chinese_puzzle(a[0], a[1]))\n",
    "    a[0] += 1; a[1] += 2\n",
    "    print(('*'*20).center(30))"
   ]
  },
  {
   "cell_type": "code",
   "execution_count": null,
   "metadata": {
    "collapsed": true
   },
   "outputs": [],
   "source": []
  }
 ],
 "metadata": {
  "kernelspec": {
   "display_name": "Python 3",
   "language": "python",
   "name": "python3"
  },
  "language_info": {
   "codemirror_mode": {
    "name": "ipython",
    "version": 3
   },
   "file_extension": ".py",
   "mimetype": "text/x-python",
   "name": "python",
   "nbconvert_exporter": "python",
   "pygments_lexer": "ipython3",
   "version": "3.6.3"
  }
 },
 "nbformat": 4,
 "nbformat_minor": 2
}
