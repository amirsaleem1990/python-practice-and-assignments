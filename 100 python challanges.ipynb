{
 "cells": [
  {
   "cell_type": "markdown",
   "metadata": {},
   "source": [
    "# 1- Write a program which will find all such numbers which are divisible by 7 but are not a multiple of 5, between 2000 and 3200 (both included). The numbers obtained should be printed in a comma-separated sequence on a single line."
   ]
  },
  {
   "cell_type": "code",
   "execution_count": 4,
   "metadata": {},
   "outputs": [
    {
     "name": "stdout",
     "output_type": "stream",
     "text": [
      "[2008, 2016, 2024, 2032, 2048, 2056, 2064, 2072, 2088, 2096, 2104, 2112, 2128, 2136, 2144, 2152, 2168, 2176, 2184, 2192, 2208, 2216, 2224, 2232, 2248, 2256, 2264, 2272, 2288, 2296, 2304, 2312, 2328, 2336, 2344, 2352, 2368, 2376, 2384, 2392, 2408, 2416, 2424, 2432, 2448, 2456, 2464, 2472, 2488, 2496, 2504, 2512, 2528, 2536, 2544, 2552, 2568, 2576, 2584, 2592, 2608, 2616, 2624, 2632, 2648, 2656, 2664, 2672, 2688, 2696, 2704, 2712, 2728, 2736, 2744, 2752, 2768, 2776, 2784, 2792, 2808, 2816, 2824, 2832, 2848, 2856, 2864, 2872, 2888, 2896, 2904, 2912, 2928, 2936, 2944, 2952, 2968, 2976, 2984, 2992, 3008, 3016, 3024, 3032, 3048, 3056, 3064, 3072, 3088, 3096, 3104, 3112, 3128, 3136, 3144, 3152, 3168, 3176, 3184, 3192]\n"
     ]
    }
   ],
   "source": [
    "print([i for i in range(2000,3201) if i & 7 == 0 and i % 5 != 0])"
   ]
  },
  {
   "cell_type": "markdown",
   "metadata": {},
   "source": [
    "# 2- Write a program which can compute the factorial of a given numbers. The results should be printed in a comma-separated sequence on a single line. Suppose the following input is supplied to the program: 8 Then, the output should be: 40320"
   ]
  },
  {
   "cell_type": "code",
   "execution_count": 21,
   "metadata": {},
   "outputs": [
    {
     "name": "stdout",
     "output_type": "stream",
     "text": [
      "Enter a number: 8\n",
      "40320\n"
     ]
    }
   ],
   "source": [
    "e = int(input('Enter a number: ')); d = 1\n",
    "for i in range(e, 0, -1): d *= i\n",
    "print(d)"
   ]
  },
  {
   "cell_type": "markdown",
   "metadata": {},
   "source": [
    "# 3- With a given integral number n, write a program to generate a dictionary that contains (i, i*i) such that is an integral number between 1 and n (both included). and then the program should print the dictionary. \n",
    "# Suppose the following input is supplied to the program:\n",
    "# 8\n",
    "# Then, the output should be:\n",
    "# {1: 1, 2: 4, 3: 9, 4: 16, 5: 25, 6: 36, 7: 49, 8: 64}"
   ]
  },
  {
   "cell_type": "code",
   "execution_count": 19,
   "metadata": {},
   "outputs": [
    {
     "name": "stdout",
     "output_type": "stream",
     "text": [
      "Enter a number: 8\n",
      "{1: 1, 2: 4, 3: 9, 4: 16, 5: 25, 6: 36, 7: 49, 8: 64}\n"
     ]
    }
   ],
   "source": [
    "print(dict({i: i*i for i in range(1, int(input('Enter a number: '))+1)}))"
   ]
  },
  {
   "cell_type": "markdown",
   "metadata": {},
   "source": [
    "# 4- Write a program which accepts a sequence of comma-separated numbers from console and generate a list and a tuple which contains every number.\n",
    "## Suppose the following input is supplied to the program:\n",
    "## 34,67,55,33,12,98\n",
    "## Then, the output should be:\n",
    "## ['34', '67', '55', '33', '12', '98']\n",
    "## ('34', '67', '55', '33', '12', '98')"
   ]
  },
  {
   "cell_type": "code",
   "execution_count": 33,
   "metadata": {},
   "outputs": [
    {
     "name": "stdout",
     "output_type": "stream",
     "text": [
      "[34, 67, 55, 33, 12, 98]\n",
      "(34, 67, 55, 33, 12, 98)\n"
     ]
    }
   ],
   "source": [
    "def tup_and_list(*numbers):\n",
    "    print([i for i in numbers])\n",
    "    return tuple(i for i in numbers)\n",
    "print(tup_and_list(34,67,55,33,12,98))"
   ]
  },
  {
   "cell_type": "markdown",
   "metadata": {},
   "source": [
    "# 5- Define a class which has at least two methods:\n",
    "## getString: to get a string from console input \n",
    "## printString: to print the string in upper case. \n",
    "## Also please include simple test function to test the class methods."
   ]
  },
  {
   "cell_type": "code",
   "execution_count": 35,
   "metadata": {},
   "outputs": [
    {
     "name": "stdout",
     "output_type": "stream",
     "text": [
      "Amir Saleem\n"
     ]
    }
   ],
   "source": [
    "class Myclass():\n",
    "    def getString(self, string):\n",
    "        self.input = string\n",
    "    def printString(self):\n",
    "        return self.input.title()\n",
    "        \n",
    "a = Myclass()\n",
    "a.getString('amir saleem')\n",
    "print(a.printString())"
   ]
  },
  {
   "cell_type": "markdown",
   "metadata": {},
   "source": [
    "# 6- Write a program that calculates and prints the value according to the given formula:\n",
    "## Q = Square root of [(2 * C * D)/H]\n",
    "## Following are the fixed values of C and H: C is 50. H is 30.\n",
    "## D is the variable whose values should be input to your program in a comma-separated sequence.\n",
    "## Example:\n",
    "## Let us assume the following comma separated input sequence is given to the program: 100,150,180\n",
    "## The output of the program should be: 18,22,24"
   ]
  },
  {
   "cell_type": "code",
   "execution_count": 36,
   "metadata": {},
   "outputs": [
    {
     "name": "stdout",
     "output_type": "stream",
     "text": [
      "***100 150 180***\n",
      "[18, 22, 24]\n",
      "***110 165 200***\n",
      "[19, 23, 26]\n",
      "***120 180 220***\n",
      "[20, 24, 27]\n",
      "***130 195 240***\n",
      "[21, 25, 28]\n",
      "***140 210 260***\n",
      "[22, 26, 29]\n"
     ]
    }
   ],
   "source": [
    "from math import sqrt as s\n",
    "def ex_6(*numbers):\n",
    "    C = 50; H = 30; \n",
    "    return [round(s((2*C*D)//H))for D in numbers]\n",
    "\n",
    "# for test:\n",
    "m = [100, 150, 180]\n",
    "for i in range(5):\n",
    "    print('***' + str(m[0]), str(m[1]), str(m[2]) + '***')\n",
    "    print(ex_6(m[0],m[1],m[2]))\n",
    "    m[0] += 10; m[1] += 15; m[2] += 20"
   ]
  },
  {
   "cell_type": "markdown",
   "metadata": {},
   "source": [
    "# 7- Write a program which takes 2 digits, X,Y as input and generates a 2-dimensional array. The element value in the i-th row and j-th column of the array should be i*j.\n",
    "## Note: i=0,1.., X-1; j=0,1,¡­Y-1.\n",
    "## Example: \n",
    "## Suppose the following inputs are given to the program: 3,5\n",
    "## Then, the output of the program should be: [[0, 0, 0, 0, 0], [0, 1, 2, 3, 4], [0, 2, 4, 6, 8]]"
   ]
  },
  {
   "cell_type": "code",
   "execution_count": 40,
   "metadata": {},
   "outputs": [
    {
     "name": "stdout",
     "output_type": "stream",
     "text": [
      "***3 5***\n",
      "[[0, 0, 0, 0, 0], [0, 1, 2, 3, 4], [0, 2, 4, 6, 8]]\n",
      "***4 6***\n",
      "[[0, 0, 0, 0, 0, 0], [0, 1, 2, 3, 4, 5], [0, 2, 4, 6, 8, 10], [0, 3, 6, 9, 12, 15]]\n",
      "***5 7***\n",
      "[[0, 0, 0, 0, 0, 0, 0], [0, 1, 2, 3, 4, 5, 6], [0, 2, 4, 6, 8, 10, 12], [0, 3, 6, 9, 12, 15, 18], [0, 4, 8, 12, 16, 20, 24]]\n",
      "***6 8***\n",
      "[[0, 0, 0, 0, 0, 0, 0, 0], [0, 1, 2, 3, 4, 5, 6, 7], [0, 2, 4, 6, 8, 10, 12, 14], [0, 3, 6, 9, 12, 15, 18, 21], [0, 4, 8, 12, 16, 20, 24, 28], [0, 5, 10, 15, 20, 25, 30, 35]]\n",
      "***7 9***\n",
      "[[0, 0, 0, 0, 0, 0, 0, 0, 0], [0, 1, 2, 3, 4, 5, 6, 7, 8], [0, 2, 4, 6, 8, 10, 12, 14, 16], [0, 3, 6, 9, 12, 15, 18, 21, 24], [0, 4, 8, 12, 16, 20, 24, 28, 32], [0, 5, 10, 15, 20, 25, 30, 35, 40], [0, 6, 12, 18, 24, 30, 36, 42, 48]]\n"
     ]
    }
   ],
   "source": [
    "def two_dim_array(nm1, nm2):\n",
    "    g = list()\n",
    "    for i in range(nm1): g.append([i*b for b in (range(nm2))])\n",
    "    return g\n",
    "# for test:\n",
    "a = [3, 5]\n",
    "for i in range(5):\n",
    "    print('***' + str(a[0]) , str(a[1]) + '***')\n",
    "    print(two_dim_array(a[0], a[1]))\n",
    "    a[0] += 1; a[1] += 1"
   ]
  },
  {
   "cell_type": "markdown",
   "metadata": {},
   "source": [
    "# *Question 8 -- Level 2\n",
    "## Write a program that accepts a comma separated sequence of words as input and prints the words in a comma-separated sequence after sorting them alphabetically.\n",
    "## Suppose the following input is supplied to the program:\n",
    "## without,hello,bag,world\n",
    "## Then, the output should be:\n",
    "## bag,hello,without,world"
   ]
  },
  {
   "cell_type": "code",
   "execution_count": 42,
   "metadata": {},
   "outputs": [
    {
     "name": "stdout",
     "output_type": "stream",
     "text": [
      "['bag', 'hello', 'without', 'world']\n"
     ]
    }
   ],
   "source": [
    "def sort_words(*words):\n",
    "    return sorted(words)\n",
    "\n",
    "# for test:\n",
    "print(sort_words('without','hello','bag','world'))"
   ]
  },
  {
   "cell_type": "markdown",
   "metadata": {},
   "source": [
    "# Question 9 -- Level 2\n",
    "# Write a program that accepts sequence of lines as input and prints the lines after making all characters in the sentence capitalized.\n",
    "## Suppose the following input is supplied to the program:\n",
    "## Hello world, Practice makes perfect\n",
    "## Then, the output should be:\n",
    "## HELLO WORLD \n",
    "## PRACTICE MAKES PERFECT"
   ]
  },
  {
   "cell_type": "code",
   "execution_count": 44,
   "metadata": {},
   "outputs": [
    {
     "name": "stdout",
     "output_type": "stream",
     "text": [
      "HELLO WORLD\n",
      "PRACTICE MAKES PERFECT\n",
      "\n"
     ]
    }
   ],
   "source": [
    "def uper(*lines):\n",
    "    for i in lines: print(i.upper())\n",
    "    return ''\n",
    "print(uper('Hello world', 'Practice makes perfect'))"
   ]
  },
  {
   "cell_type": "markdown",
   "metadata": {},
   "source": [
    "# Question 10 -- Level 2\n",
    "## Write a program that accepts a sequence of whitespace separated words as input and prints the words after removing all duplicate words and sorting them alphanumerically.\n",
    "## Suppose the following input is supplied to the program:\n",
    "## hello world and practice makes perfect and hello world again\n",
    "## Then, the output should be:\n",
    "## again and hello makes perfect practice world"
   ]
  },
  {
   "cell_type": "code",
   "execution_count": 48,
   "metadata": {},
   "outputs": [
    {
     "name": "stdout",
     "output_type": "stream",
     "text": [
      "again and hello makes perfect practice world \n"
     ]
    }
   ],
   "source": [
    "def rem_dup_and_sort(string):\n",
    "    a = sorted(list(set(string.split())))\n",
    "    k = str()\n",
    "    for i in a: k += i+' '\n",
    "    return k\n",
    "\n",
    "print(rem_dup_and_sort('hello world and practice makes perfect and hello world again'))"
   ]
  },
  {
   "cell_type": "markdown",
   "metadata": {},
   "source": [
    "# Question 11 -- Level 2\n",
    "## Write a program which accepts a sequence of comma separated 4 digit binary numbers as its input and then check whether they are divisible by 5 or not. The numbers that are divisible by 5 are to be printed in a comma separated sequence.\n",
    "## Example: 1010,0100,0011,1001\n",
    "## Then the output should be: 1010, 0100"
   ]
  },
  {
   "cell_type": "code",
   "execution_count": 52,
   "metadata": {},
   "outputs": [
    {
     "name": "stdout",
     "output_type": "stream",
     "text": [
      "Enter a sequence of comma separeted 4 digit binary numbers: 1010,0100,0011,1001\n",
      "1010,0100,"
     ]
    },
    {
     "data": {
      "text/plain": [
       "[None, None]"
      ]
     },
     "execution_count": 52,
     "metadata": {},
     "output_type": "execute_result"
    }
   ],
   "source": [
    "[print(i, end=',') for i in [b for b in input('Enter a sequence of comma separeted 4 digit binary numbers: ').split(',')] if int(i) % 5 == 0]"
   ]
  },
  {
   "cell_type": "markdown",
   "metadata": {},
   "source": [
    "## Question 12 -- Level 2\n",
    "## Write a program, which will find all such numbers between 1000 and 3000 (both included) such that each digit of the number is an even number.\n",
    "## The numbers obtained should be printed in a comma-separated sequence on a single line."
   ]
  },
  {
   "cell_type": "code",
   "execution_count": 54,
   "metadata": {},
   "outputs": [
    {
     "name": "stdout",
     "output_type": "stream",
     "text": [
      "2000,2002,2004,2006,2008,2020,2022,2024,2026,2028,2040,2042,2044,2046,2048,2060,2062,2064,2066,2068,2080,2082,2084,2086,2088,2200,2202,2204,2206,2208,2220,2222,2224,2226,2228,2240,2242,2244,2246,2248,2260,2262,2264,2266,2268,2280,2282,2284,2286,2288,2400,2402,2404,2406,2408,2420,2422,2424,2426,2428,2440,2442,2444,2446,2448,2460,2462,2464,2466,2468,2480,2482,2484,2486,2488,2600,2602,2604,2606,2608,2620,2622,2624,2626,2628,2640,2642,2644,2646,2648,2660,2662,2664,2666,2668,2680,2682,2684,2686,2688,2800,2802,2804,2806,2808,2820,2822,2824,2826,2828,2840,2842,2844,2846,2848,2860,2862,2864,2866,2868,2880,2882,2884,2886,2888,\n",
      "[2000, 2002, 2004, 2006, 2008, 2020, 2022, 2024, 2026, 2028, 2040, 2042, 2044, 2046, 2048, 2060, 2062, 2064, 2066, 2068, 2080, 2082, 2084, 2086, 2088, 2200, 2202, 2204, 2206, 2208, 2220, 2222, 2224, 2226, 2228, 2240, 2242, 2244, 2246, 2248, 2260, 2262, 2264, 2266, 2268, 2280, 2282, 2284, 2286, 2288, 2400, 2402, 2404, 2406, 2408, 2420, 2422, 2424, 2426, 2428, 2440, 2442, 2444, 2446, 2448, 2460, 2462, 2464, 2466, 2468, 2480, 2482, 2484, 2486, 2488, 2600, 2602, 2604, 2606, 2608, 2620, 2622, 2624, 2626, 2628, 2640, 2642, 2644, 2646, 2648, 2660, 2662, 2664, 2666, 2668, 2680, 2682, 2684, 2686, 2688, 2800, 2802, 2804, 2806, 2808, 2820, 2822, 2824, 2826, 2828, 2840, 2842, 2844, 2846, 2848, 2860, 2862, 2864, 2866, 2868, 2880, 2882, 2884, 2886, 2888]\n"
     ]
    }
   ],
   "source": [
    "# v1:\n",
    "for i in range(1000, 3001):\n",
    "    a = str(i); \n",
    "    if int(a[0]) % 2 == 0 and int(a[1]) % 2 == 0 and int(a[2]) % 2 == 0 and int(a[3]) % 2 == 0:\n",
    "        print(i, end=',')    \n",
    "print()\n",
    "# v2:\n",
    "d = list()\n",
    "for i in range(1000, 3000):\n",
    "    a = str(i); c = 0\n",
    "    for b in a:\n",
    "        if int(b) % 2 == 0: c += 1\n",
    "    if c == len(a): d.append(i)\n",
    "print(d)\n"
   ]
  },
  {
   "cell_type": "markdown",
   "metadata": {},
   "source": [
    "# Question 13 -- Level 2\n",
    "## Write a program that accepts a sentence and calculate the number of letters and digits.\n",
    "## Suppose the following input is supplied to the program:\n",
    "## hello world! 123\n",
    "## Then, the output should be:\n",
    "## LETTERS 10\n",
    "## DIGITS 3"
   ]
  },
  {
   "cell_type": "code",
   "execution_count": 56,
   "metadata": {},
   "outputs": [
    {
     "name": "stdout",
     "output_type": "stream",
     "text": [
      "Enter a sentence: hello world! 123\n",
      "LETTERS 10\n",
      "DIGITS 3\n"
     ]
    }
   ],
   "source": [
    "a = [i for i in input('Enter a sentence: ')]\n",
    "print('LETTERS '+ str(len([i for i in a if i.isalpha()])))\n",
    "print('DIGITS ' + str(len([i for i in a if i.isdigit()])))"
   ]
  },
  {
   "cell_type": "markdown",
   "metadata": {},
   "source": [
    "# Question 14 -- Level 2\n",
    "## Write a program that accepts a sentence and calculate the number of upper case letters and lower case letters.\n",
    "## Suppose the following input is supplied to the program:\n",
    "## Hello world!\n",
    "## Then, the output should be:\n",
    "## UPPER CASE 1\n",
    "## LOWER CASE 9"
   ]
  },
  {
   "cell_type": "code",
   "execution_count": 57,
   "metadata": {},
   "outputs": [
    {
     "name": "stdout",
     "output_type": "stream",
     "text": [
      "Enter a sentence: Hello world!\n",
      "UPPER CASE 1\n",
      "LOWER CASE 9\n"
     ]
    }
   ],
   "source": [
    "a = [i for i in input('Enter a sentence: ')]\n",
    "print('UPPER CASE '+ str(len([i for i in a if i.isupper()])))\n",
    "print('LOWER CASE ' + str(len([i for i in a if i.islower()])))"
   ]
  },
  {
   "cell_type": "markdown",
   "metadata": {},
   "source": [
    "# Question 15 -- Level 2\n",
    "## Write a program that computes the value of a+aa+aaa+aaaa with a given digit as the value of a.\n",
    "## Suppose the following input is supplied to the program:\n",
    "## 9\n",
    "## Then, the output should be:\n",
    "## 11106"
   ]
  },
  {
   "cell_type": "code",
   "execution_count": 58,
   "metadata": {},
   "outputs": [
    {
     "name": "stdout",
     "output_type": "stream",
     "text": [
      "Enter a number: 9\n",
      "11106\n"
     ]
    }
   ],
   "source": [
    "a = int(input('Enter a number: '))\n",
    "print(a+(a*11)+(a*111)+(a*1111))"
   ]
  },
  {
   "cell_type": "markdown",
   "metadata": {},
   "source": [
    "# Question 16 -- Level 2\n",
    "## Use a list comprehension to square each odd number in a list. The list is input by a sequence of comma-separated numbers.\n",
    "## Suppose the following input is supplied to the program:\n",
    "## 1,2,3,4,5,6,7,8,9\n",
    "## Then, the output should be:\n",
    "## 1,3,5,7,9"
   ]
  },
  {
   "cell_type": "code",
   "execution_count": 84,
   "metadata": {},
   "outputs": [
    {
     "name": "stdout",
     "output_type": "stream",
     "text": [
      "Enter a sequence of comma_separated numbers: 1,2,3,4,5,6,7,8,9\n",
      ",1 ,3 ,5 ,7 ,9 "
     ]
    },
    {
     "data": {
      "text/plain": [
       "[None, None, None, None, None]"
      ]
     },
     "execution_count": 84,
     "metadata": {},
     "output_type": "execute_result"
    }
   ],
   "source": [
    "[print(i.join(', '), end='') for i in input('Enter a sequence of comma_separated numbers: ').split(',') if int(i) % 2 != 0]"
   ]
  },
  {
   "cell_type": "markdown",
   "metadata": {},
   "source": [
    "# Question 17 -- Level 2\n",
    "## Write a program that computes the net amount of a bank account based a transaction log from console input. The transaction log format is shown as following:\n",
    "### D 100\n",
    "### W 200\n",
    "### D means deposit while W means withdrawal.\n",
    "### Suppose the following input is supplied to the program:\n",
    "### D 300\n",
    "### D 300\n",
    "### W 200\n",
    "### D 100\n",
    "### Then, the output should be:\n",
    "### 500"
   ]
  },
  {
   "cell_type": "code",
   "execution_count": 86,
   "metadata": {},
   "outputs": [
    {
     "name": "stdout",
     "output_type": "stream",
     "text": [
      "\n",
      "Enter your transaction: \n",
      "[The transaction log format is shown as following]:\n",
      "D 100 \n",
      "W 200\n",
      "[for exit type xit] D 300\n",
      "\n",
      "Enter your transaction: \n",
      "[The transaction log format is shown as following]:\n",
      "D 100 \n",
      "W 200\n",
      "[for exit type xit] D 300\n",
      "\n",
      "Enter your transaction: \n",
      "[The transaction log format is shown as following]:\n",
      "D 100 \n",
      "W 200\n",
      "[for exit type xit] W 200\n",
      "\n",
      "Enter your transaction: \n",
      "[The transaction log format is shown as following]:\n",
      "D 100 \n",
      "W 200\n",
      "[for exit type xit] D 100\n",
      "\n",
      "Enter your transaction: \n",
      "[The transaction log format is shown as following]:\n",
      "D 100 \n",
      "W 200\n",
      "[for exit type xit] xit\n",
      "***** 500 *****\n"
     ]
    }
   ],
   "source": [
    "a = True; e = int()\n",
    "while a:\n",
    "    b = input('\\nEnter your transaction: \\n[The transaction log format is shown as following]:\\nD 100 \\nW 200\\n[for exit type xit] ')  \n",
    "    if b.lower() != 'xit':\n",
    "        c = b[0]; d = b[2:]\n",
    "        if b[0].lower() == 'd': e += int(b[2:])\n",
    "        elif b[0].lower() == 'w': e -= int(b[2:])\n",
    "    else:print('*'*5, e, '*'*5); a = False"
   ]
  },
  {
   "cell_type": "markdown",
   "metadata": {},
   "source": [
    "# Question 18 -- Level 3\n",
    "### A website requires the users to input username and password to register.\n",
    "### Write a program to check the validity of password input by users.\n",
    "### Following are the criteria for checking the password:\n",
    "### 1. At least 1 letter between [a-z]\n",
    "### 2. At least 1 number between [0-9]\n",
    "### 1. At least 1 letter between [A-Z]\n",
    "### 3. At least 1 character from [$#@]\n",
    "### 4. Minimum length of transaction password: 6\n",
    "### 5. Maximum length of transaction password: 12\n",
    "### Your program should accept a sequence of comma separated passwords and will check them according to the above criteria. Passwords that match the criteria are to be printed, each separated by a comma.\n",
    "### Example\n",
    "### If the following passwords are given as input to the program:\n",
    "### ABd1234@1,a F1#,2w3E*,2We3345\n",
    "### Then, the output of the program should be:\n",
    "### ABd1234@1"
   ]
  },
  {
   "cell_type": "code",
   "execution_count": 88,
   "metadata": {},
   "outputs": [
    {
     "name": "stdout",
     "output_type": "stream",
     "text": [
      "['ABd1234@1']\n"
     ]
    }
   ],
   "source": [
    "n = 'ABd1234@1','a F1#','2w3E*','2We3345'\n",
    "def password(*passwords):\n",
    "    a = list()\n",
    "    for i in passwords:\n",
    "        f = list(i)\n",
    "        upper = 0; lower = 0; sign = 0; num = 0\n",
    "        for g in f:\n",
    "            if g.islower(): lower += 1\n",
    "            elif g.isupper(): upper += 1\n",
    "            elif g in '$#@': sign += 1\n",
    "            elif g.isnumeric(): num += 1\n",
    "        if upper and lower and sign and num and 5 < len(i) < 13: a.append(i)\n",
    "    return a\n",
    "\n",
    "print( password('ABd1234@1','a F1#','2w3E*','2We3345'))"
   ]
  },
  {
   "cell_type": "markdown",
   "metadata": {},
   "source": [
    "# Question 19 -- Level 3\n",
    "### You are required to write a program to sort the (name, age, height) tuples by ascending order where name is string, age and height are numbers. The tuples are input by console. The sort criteria is:\n",
    "### 1: Sort based on name;\n",
    "### 2: Then sort based on age;\n",
    "### 3: Then sort by score.\n",
    "### The priority is that name > age > score.\n",
    "### If the following tuples are given as input to the program:\n",
    "### Tom,19,80\n",
    "### John,20,90\n",
    "### Jony,17,91\n",
    "### Jony,17,93\n",
    "### Json,21,85\n",
    "### Then, the output of the program should be:\n",
    "### [('John', '20', '90'), ('Jony', '17', '91'), ('Jony', '17', '93'),\n",
    "### ('Json', '21', '85'), ('Tom', '19', '80')]"
   ]
  },
  {
   "cell_type": "code",
   "execution_count": 170,
   "metadata": {},
   "outputs": [
    {
     "name": "stdout",
     "output_type": "stream",
     "text": [
      "Enter tupples: Tom,19,80,John,20,90,Jony,17,91,Jony,17,93,Json,21,85\n",
      "[('Tom', '19', '80'), ('John', '20', '90'), ('Jony', '17', '91'), ('Jony', '17', '93'), ('Json', '21', '85')]\n"
     ]
    }
   ],
   "source": [
    "a = list(input('Enter tupples: ').split(','))\n",
    "ls = list()\n",
    "for i in range(0, len(a), 3): ls.append(tuple(a[i:i+3]))\n",
    "print(ls)"
   ]
  },
  {
   "cell_type": "markdown",
   "metadata": {},
   "source": [
    "# Question 20 -- Level 3\n",
    "### Define a class with a generator which can iterate the numbers, which are divisible by 7, between a given range 0 and n."
   ]
  },
  {
   "cell_type": "code",
   "execution_count": 172,
   "metadata": {},
   "outputs": [
    {
     "name": "stdout",
     "output_type": "stream",
     "text": [
      "[0, 7, 14, 21, 28, 35, 42, 49, 56, 63]\n",
      "[0, 7, 14, 21, 28, 35, 42, 49, 56, 63, 70, 77, 84, 91, 98, 105, 112, 119, 126, 133, 140, 147, 154, 161, 168, 175, 182, 189, 196, 203, 210, 217, 224, 231, 238, 245, 252, 259, 266, 273, 280, 287, 294, 301, 308, 315, 322, 329, 336, 343, 350]\n"
     ]
    }
   ],
   "source": [
    "class Generator():\n",
    "    def gen(self, number):\n",
    "        return [i for i in range(0, number) if i % 7 == 0]\n",
    "a = Generator()\n",
    "print(a.gen(70))\n",
    "print(a.gen(355))"
   ]
  },
  {
   "cell_type": "markdown",
   "metadata": {},
   "source": [
    "# Question 21 -- Level 3\n",
    "### A robot moves in a plane starting from the original point (0,0). The robot can move toward UP, DOWN, LEFT and RIGHT with a given steps. The trace of robot movement is shown as the following:\n",
    "### UP 5\n",
    "### DOWN 3\n",
    "### LEFT 3\n",
    "### RIGHT 2\n",
    "### The numbers after the direction are steps. Please write a program to compute the distance from current position after a sequence of movement and original point. If the distance is a float, then just print the\n",
    "### nearest integer.\n",
    "### Example:\n",
    "### If the following tuples are given as input to the program:\n",
    "### UP 5\n",
    "### DOWN 3\n",
    "### LEFT 3\n",
    "### RIGHT 2\n",
    "### Then, the output of the program should be:\n",
    "### 2\n"
   ]
  },
  {
   "cell_type": "markdown",
   "metadata": {},
   "source": [
    "# Question 22-- Level 3\n",
    "### Write a program to compute the frequency of the words from the input.\n",
    "### The output should output after sorting the key alphanumerically. \n",
    "### Suppose the following input is supplied to the program:\n",
    "### New to Python or choosing between Python 2 and Python 3? Read Python 2 or Python 3.\n",
    "### Then, the output should be:\n",
    "### 2:2\n",
    "### 3.:1\n",
    "### 3?:1\n",
    "### New:1\n",
    "### Python:5\n",
    "### Read:1\n",
    "### and:1\n",
    "### between:1\n",
    "### choosing:1\n",
    "### or:2\n",
    "### to:1"
   ]
  },
  {
   "cell_type": "code",
   "execution_count": 177,
   "metadata": {},
   "outputs": [
    {
     "name": "stdout",
     "output_type": "stream",
     "text": [
      "Enter your sentence: New to Python or choosing between Python 2 and Python 3? Read Python 2 or Python 3.\n",
      "2:2\n",
      "3.:1\n",
      "3?:1\n",
      "New:1\n",
      "Python:5\n",
      "Read:1\n",
      "and:1\n",
      "between:1\n",
      "choosing:1\n",
      "or:2\n",
      "to:1\n"
     ]
    },
    {
     "data": {
      "text/plain": [
       "[None, None, None, None, None, None, None, None, None, None, None]"
      ]
     },
     "execution_count": 177,
     "metadata": {},
     "output_type": "execute_result"
    }
   ],
   "source": [
    "a = input('Enter your sentence: ').split()\n",
    "b = list(set(a)); b.sort()\n",
    "[print(i+':'+str(a.count(i))) for i in b]"
   ]
  },
  {
   "cell_type": "markdown",
   "metadata": {},
   "source": [
    "# Question 23 - level 1\n",
    "### Write a method which can calculate square value of number"
   ]
  },
  {
   "cell_type": "code",
   "execution_count": 178,
   "metadata": {},
   "outputs": [
    {
     "name": "stdout",
     "output_type": "stream",
     "text": [
      "2.23606797749979\n",
      "2.6457513110645907\n"
     ]
    }
   ],
   "source": [
    "class maths():\n",
    "    import math\n",
    "    def sqr(self, number):\n",
    "        return self.math.sqrt(number)\n",
    "a = maths()\n",
    "print(a.sqr(5))\n",
    "print(a.sqr(7))"
   ]
  },
  {
   "cell_type": "markdown",
   "metadata": {},
   "source": [
    "# Question 24 -- Level 1\n",
    "### Python has many built-in functions, and if you do not know how to use it, you can read document online or find some books. But Python has abuilt-in document function for every built-in functions. Please write a program to print some Python built-in functions documents, such as abs(), int(), raw_input() And add document for your own function"
   ]
  },
  {
   "cell_type": "code",
   "execution_count": 184,
   "metadata": {},
   "outputs": [
    {
     "name": "stdout",
     "output_type": "stream",
     "text": [
      "*****Document for abs function:*****\n",
      "\n",
      "Return the absolute value of the argument.\n",
      "*****Document for int function:*****\n",
      "\n",
      "int(x=0) -> integer\n",
      "int(x, base=10) -> integer\n",
      "\n",
      "Convert a number or string to an integer, or return 0 if no arguments\n",
      "are given.  If x is a number, return x.__int__().  For floating point\n",
      "numbers, this truncates towards zero.\n",
      "\n",
      "If x is not a number or if base is given, then x must be a string,\n",
      "bytes, or bytearray instance representing an integer literal in the\n",
      "given base.  The literal can be preceded by '+' or '-' and be surrounded\n",
      "by whitespace.  The base defaults to 10.  Valid bases are 0 and 2-36.\n",
      "Base 0 means to interpret the base from the string as an integer literal.\n",
      ">>> int('0b100', base=0)\n",
      "4\n",
      "*****Document for input function:*****\n",
      "\n",
      "Forward raw_input to frontends\n",
      "\n",
      "        Raises\n",
      "        ------\n",
      "        StdinNotImplentedError if active frontend doesn't support stdin.\n",
      "        \n",
      "\n",
      "    (str) -> str\n",
      "    return a str in title case.\n",
      "    \n"
     ]
    }
   ],
   "source": [
    "for i in [\"abs\", \"int\", \"input\"]:\n",
    "    print('*****Document for '+ i + ' function:*****\\n')\n",
    "    print(eval(i).__doc__)\n",
    "\n",
    "def print_name(name):\n",
    "    '''\n",
    "    (str) -> str\n",
    "    return a str in title case.\n",
    "    '''\n",
    "    return name.title()\n",
    "print(print_name.__doc__)"
   ]
  },
  {
   "cell_type": "markdown",
   "metadata": {},
   "source": [
    "#  Define a class, which have a class parameter and have a same instance parameter."
   ]
  },
  {
   "cell_type": "markdown",
   "metadata": {},
   "source": [
    "# Define a function which can compute the sum of two numbers."
   ]
  },
  {
   "cell_type": "code",
   "execution_count": 185,
   "metadata": {},
   "outputs": [
    {
     "name": "stdout",
     "output_type": "stream",
     "text": [
      "13\n"
     ]
    }
   ],
   "source": [
    "def sum_two(num1, num2):\n",
    "    return num1 + num2\n",
    "print(sum_two(4, 9))"
   ]
  },
  {
   "cell_type": "markdown",
   "metadata": {},
   "source": [
    "# Define a function that can convert a integer into a string and print it in console."
   ]
  },
  {
   "cell_type": "code",
   "execution_count": 188,
   "metadata": {},
   "outputs": [
    {
     "name": "stdout",
     "output_type": "stream",
     "text": [
      "44\n"
     ]
    }
   ],
   "source": [
    "def int_to_str(num):\n",
    "    return str(num)\n",
    "print(int_to_str(44))"
   ]
  },
  {
   "cell_type": "markdown",
   "metadata": {},
   "source": [
    "# Define a function that can receive two integral numbers in string form and compute their sum and then print it in console."
   ]
  },
  {
   "cell_type": "code",
   "execution_count": 190,
   "metadata": {},
   "outputs": [
    {
     "name": "stdout",
     "output_type": "stream",
     "text": [
      "46\n"
     ]
    }
   ],
   "source": [
    "def str_to_int(num1, num2):\n",
    "    return int(num1) + int(num2)\n",
    "print(str_to_int('44', '2'))"
   ]
  },
  {
   "cell_type": "markdown",
   "metadata": {},
   "source": [
    "# 2.10 Define a function that can accept two strings as input and concatenate them and then print it in console."
   ]
  },
  {
   "cell_type": "code",
   "execution_count": 194,
   "metadata": {},
   "outputs": [
    {
     "name": "stdout",
     "output_type": "stream",
     "text": [
      "amir saleem\n"
     ]
    }
   ],
   "source": [
    "def single_str(str1, str2):\n",
    "    return str1+ ' ' + str2\n",
    "print(single_str('amir', 'saleem'))"
   ]
  },
  {
   "cell_type": "markdown",
   "metadata": {},
   "source": [
    "# 2.10 Define a function that can accept two strings as input and print the string with maximum length in console. If two strings have the same length, then the function should print all strings line by line."
   ]
  },
  {
   "cell_type": "code",
   "execution_count": 197,
   "metadata": {},
   "outputs": [
    {
     "name": "stdout",
     "output_type": "stream",
     "text": [
      "saleem\n",
      "amir\n",
      "sale\n",
      "\n",
      "amir\n"
     ]
    }
   ],
   "source": [
    "def max_str(str1, str2):\n",
    "    if len(str1) != len(str2):\n",
    "        a = str()\n",
    "        for i in str1, str2:\n",
    "            if len(i) > len(a): a = i\n",
    "        return a\n",
    "    else:\n",
    "        for i in str1, str2: print(i)\n",
    "    return ''\n",
    "print(max_str('amir', 'saleem'))\n",
    "print(max_str('amir', 'sale'))\n",
    "print(max_str('abc', 'amir'))"
   ]
  },
  {
   "cell_type": "markdown",
   "metadata": {},
   "source": [
    "# 2.10 Define a function that can accept an integer number as input and print the \"It is an even number\" if the number is even, otherwise print \"It is an odd number\"."
   ]
  },
  {
   "cell_type": "code",
   "execution_count": 199,
   "metadata": {},
   "outputs": [
    {
     "name": "stdout",
     "output_type": "stream",
     "text": [
      "It is an odd number\n",
      "It is an even number\n"
     ]
    }
   ],
   "source": [
    "def even_or_odd(num):\n",
    "    if num % 2 == 0: return 'It is an even number'\n",
    "    else: return 'It is an odd number'\n",
    "\n",
    "print(even_or_odd(7))\n",
    "print(even_or_odd(88))"
   ]
  },
  {
   "cell_type": "markdown",
   "metadata": {},
   "source": [
    "# 2.10 Define a function which can print a dictionary where the keys are numbers between 1 and 3 (both included) and the values are square of keys."
   ]
  },
  {
   "cell_type": "code",
   "execution_count": 208,
   "metadata": {},
   "outputs": [
    {
     "name": "stdout",
     "output_type": "stream",
     "text": [
      "{1: 1, 2: 4, 3: 9}\n"
     ]
    }
   ],
   "source": [
    "def dic():\n",
    "    return {i:i*i for i in range(1,4)}\n",
    "print(dic())"
   ]
  },
  {
   "cell_type": "markdown",
   "metadata": {},
   "source": [
    "# 2.10 Define a function which can print a dictionary where the keys are numbers between 1 and 20 (both included) and the values are square of keys."
   ]
  },
  {
   "cell_type": "code",
   "execution_count": 209,
   "metadata": {},
   "outputs": [
    {
     "name": "stdout",
     "output_type": "stream",
     "text": [
      "{1: 1, 2: 4, 3: 9, 4: 16, 5: 25, 6: 36, 7: 49, 8: 64, 9: 81, 10: 100, 11: 121, 12: 144, 13: 169, 14: 196, 15: 225, 16: 256, 17: 289, 18: 324, 19: 361, 20: 400}\n"
     ]
    }
   ],
   "source": [
    "def dic_20():\n",
    "    return {i:i*i for i in range(1,21)}\n",
    "print(dic_20())"
   ]
  },
  {
   "cell_type": "markdown",
   "metadata": {},
   "source": [
    "# Define a function which can generate a dictionary where the keys are numbers between 1 and 20 (both included) and the values are square of keys. The function should just print the values only."
   ]
  },
  {
   "cell_type": "code",
   "execution_count": 214,
   "metadata": {},
   "outputs": [
    {
     "name": "stdout",
     "output_type": "stream",
     "text": [
      "[1, 4, 9, 16, 25, 36, 49, 64, 81, 100, 121, 144, 169, 196, 225, 256, 289, 324, 361, 400]\n"
     ]
    }
   ],
   "source": [
    "def dic_20_values():\n",
    "      return list({i:i*i for i in range(1,21)}.values())\n",
    "\n",
    "print(dic_20_values())"
   ]
  },
  {
   "cell_type": "markdown",
   "metadata": {},
   "source": [
    "# 2.10 Define a function which can generate a dictionary where the keys are numbers between 1 and 20 (both included) and the values are square of keys. The function should just print the keys only."
   ]
  },
  {
   "cell_type": "code",
   "execution_count": 217,
   "metadata": {},
   "outputs": [
    {
     "name": "stdout",
     "output_type": "stream",
     "text": [
      "[1, 2, 3, 4, 5, 6, 7, 8, 9, 10, 11, 12, 13, 14, 15, 16, 17, 18, 19, 20]\n"
     ]
    }
   ],
   "source": [
    "def dic_20_keys():\n",
    "  return list({i:i*i for i in range(1,21)}.keys())\n",
    "\n",
    "print(dic_20_keys())"
   ]
  },
  {
   "cell_type": "markdown",
   "metadata": {},
   "source": [
    "# 2.10  Define a function which can generate and print a list where the values are square of numbers between 1 and 20 (both included)."
   ]
  },
  {
   "cell_type": "code",
   "execution_count": 218,
   "metadata": {},
   "outputs": [
    {
     "name": "stdout",
     "output_type": "stream",
     "text": [
      "[1, 4, 9, 16, 25, 36, 49, 64, 81, 100, 121, 144, 169, 196, 225, 256, 289, 324, 361, 400]\n"
     ]
    }
   ],
   "source": [
    "def list_20():\n",
    "    return [i*i for i in range(1, 21)]\n",
    "print(list_20())"
   ]
  },
  {
   "cell_type": "markdown",
   "metadata": {},
   "source": [
    "#  Define a function which can generate a list where the values are square of numbers between 1 and 20 (both included). Then the function needs to print the first 5 elements in the list."
   ]
  },
  {
   "cell_type": "code",
   "execution_count": 219,
   "metadata": {},
   "outputs": [
    {
     "name": "stdout",
     "output_type": "stream",
     "text": [
      "[1, 4, 9, 16, 25]\n"
     ]
    }
   ],
   "source": [
    "def list_20_first_five():\n",
    "    return [i*i for i in range(1, 21)][:5]\n",
    "print(list_20_first_five())"
   ]
  },
  {
   "cell_type": "markdown",
   "metadata": {},
   "source": [
    "# 2.10 Define a function which can generate a list where the values are square of numbers between 1 and 20 (both included). Then the function needs to print the last 5 elements in the list."
   ]
  },
  {
   "cell_type": "code",
   "execution_count": 220,
   "metadata": {},
   "outputs": [
    {
     "name": "stdout",
     "output_type": "stream",
     "text": [
      "[256, 289, 324, 361, 400]\n"
     ]
    }
   ],
   "source": [
    "def list_20_last_five():\n",
    "    return [i*i for i in range(1, 21)][-5:]\n",
    "print(list_20_last_five())"
   ]
  },
  {
   "cell_type": "markdown",
   "metadata": {},
   "source": [
    "# Define a function which can generate a list where the values are square of numbers between 1 and 20 (both included). Then the function needs to print all values except the first 5 elements in the list."
   ]
  },
  {
   "cell_type": "code",
   "execution_count": 222,
   "metadata": {},
   "outputs": [
    {
     "name": "stdout",
     "output_type": "stream",
     "text": [
      "[36, 49, 64, 81, 100, 121, 144, 169, 196, 225, 256, 289, 324, 361, 400]\n"
     ]
    }
   ],
   "source": [
    "def list_20_last_15():\n",
    "    return [i*i for i in range(1, 21)][5:]\n",
    "print(list_20_last_15())"
   ]
  },
  {
   "cell_type": "markdown",
   "metadata": {},
   "source": [
    "# 2.10Define a function which can generate and print a tuple where the value are square of numbers between 1 and 20 (both included). "
   ]
  },
  {
   "cell_type": "code",
   "execution_count": 223,
   "metadata": {},
   "outputs": [
    {
     "name": "stdout",
     "output_type": "stream",
     "text": [
      "(1, 4, 9, 16, 25, 36, 49, 64, 81, 100, 121, 144, 169, 196, 225, 256, 289, 324, 361, 400)\n"
     ]
    }
   ],
   "source": [
    "def tuple_20():\n",
    "    return tuple([i*i for i in range(1, 21)])\n",
    "print(tuple_20())"
   ]
  },
  {
   "cell_type": "markdown",
   "metadata": {},
   "source": [
    "# 2.10 With a given tuple (1,2,3,4,5,6,7,8,9,10), write a program to print the first half values in one line and the last half values in one line. "
   ]
  },
  {
   "cell_type": "code",
   "execution_count": 225,
   "metadata": {},
   "outputs": [
    {
     "name": "stdout",
     "output_type": "stream",
     "text": [
      "(1, 2, 3, 4, 5)\n",
      "(6, 7, 8, 9, 10)\n"
     ]
    }
   ],
   "source": [
    "a = (1,2,3,4,5,6,7,8,9,10)\n",
    "print(a[:len(a)//2]); print(a[len(a)//2:])"
   ]
  },
  {
   "cell_type": "markdown",
   "metadata": {},
   "source": [
    "# 2.10 Write a program to generate and print another tuple whose values are even numbers in the given tuple (1,2,3,4,5,6,7,8,9,10)."
   ]
  },
  {
   "cell_type": "code",
   "execution_count": 227,
   "metadata": {},
   "outputs": [
    {
     "name": "stdout",
     "output_type": "stream",
     "text": [
      "(2, 4, 6, 8, 10)\n"
     ]
    }
   ],
   "source": [
    "a = (1,2,3,4,5,6,7,8,9,10)\n",
    "print(tuple([i for i in a if i % 2 == 0]))"
   ]
  },
  {
   "cell_type": "markdown",
   "metadata": {},
   "source": [
    "# 2.14 Write a program which accepts a string as input to print \"Yes\" if the string is \"yes\" or \"YES\" or \"Yes\", otherwise print \"No\". "
   ]
  },
  {
   "cell_type": "code",
   "execution_count": 230,
   "metadata": {},
   "outputs": [
    {
     "name": "stdout",
     "output_type": "stream",
     "text": [
      "Enter something: amir\n",
      "No\n"
     ]
    }
   ],
   "source": [
    "a = input('Enter something: ')\n",
    "if a in ['yes', 'YES', 'Yes']: print('Yes')\n",
    "else: print('No')"
   ]
  },
  {
   "cell_type": "markdown",
   "metadata": {},
   "source": [
    "# 3.4 Write a program which can filter even numbers in a list by using filter function. The list is: [1,2,3,4,5,6,7,8,9,10]."
   ]
  },
  {
   "cell_type": "markdown",
   "metadata": {},
   "source": [
    "# 3.4 write a program which can map() to make a list whose elements are square of elements in [1,2,3,4,5,6,7,8,9,10]."
   ]
  },
  {
   "cell_type": "code",
   "execution_count": 231,
   "metadata": {},
   "outputs": [
    {
     "name": "stdout",
     "output_type": "stream",
     "text": [
      "[1, 4, 9, 16, 25, 36, 49, 64, 81, 100]\n"
     ]
    }
   ],
   "source": [
    "a = [1,2,3,4,5,6,7,8,9,10]\n",
    "print(list(map(lambda x: x * x, a)))"
   ]
  },
  {
   "cell_type": "markdown",
   "metadata": {},
   "source": [
    "# 3.5 Write a program which can map() and filter() to make a list whose elements are square of even number in [1,2,3,4,5,6,7,8,9,10]."
   ]
  },
  {
   "cell_type": "markdown",
   "metadata": {},
   "source": [
    "# 3.5 Write a program which can filter() to make a list whose elements are even number between 1 and 20 (both included)."
   ]
  },
  {
   "cell_type": "markdown",
   "metadata": {},
   "source": [
    "#  Write a program which can map() to make a list whose elements are square of numbers between 1 and 20 (both included)."
   ]
  },
  {
   "cell_type": "code",
   "execution_count": 234,
   "metadata": {},
   "outputs": [
    {
     "name": "stdout",
     "output_type": "stream",
     "text": [
      "[0, 1, 4, 9, 16, 25, 36, 49, 64, 81, 100, 121, 144, 169, 196, 225, 256, 289, 324, 361, 400]\n"
     ]
    }
   ],
   "source": [
    "m = list(range(21))\n",
    "print(list(map(lambda x: x * x, m)))"
   ]
  },
  {
   "cell_type": "markdown",
   "metadata": {},
   "source": [
    "#  7.2 Define a class named American which has a static method called printNationality."
   ]
  },
  {
   "cell_type": "code",
   "execution_count": 235,
   "metadata": {},
   "outputs": [
    {
     "name": "stdout",
     "output_type": "stream",
     "text": [
      "American\n"
     ]
    }
   ],
   "source": [
    "class American():\n",
    "    def printNationality(self):\n",
    "        return 'American'\n",
    "a = American()\n",
    "print(a.printNationality())"
   ]
  },
  {
   "cell_type": "markdown",
   "metadata": {},
   "source": [
    "# 7.2 Question: Define a class named American and its subclass NewYorker. "
   ]
  },
  {
   "cell_type": "code",
   "execution_count": 241,
   "metadata": {
    "collapsed": true
   },
   "outputs": [],
   "source": [
    "class American():\n",
    "    pass\n",
    "class NewYorker(American):\n",
    "    pass"
   ]
  },
  {
   "cell_type": "markdown",
   "metadata": {},
   "source": [
    "#  Define a class named Circle which can be constructed by a radius. The Circle class has a method which can compute the area. "
   ]
  },
  {
   "cell_type": "code",
   "execution_count": 242,
   "metadata": {},
   "outputs": [
    {
     "name": "stdout",
     "output_type": "stream",
     "text": [
      "0.13962634015954636\n",
      "50.24\n"
     ]
    }
   ],
   "source": [
    "class Circle():\n",
    "    def __init__(self, num):\n",
    "        from math import radians as r\n",
    "        self.num = num\n",
    "        self.radius = r(num)\n",
    "    def area(self):\n",
    "        return 3.14* self.num/2 * self.num/2\n",
    "\n",
    "a = Circle(8)\n",
    "print(a.radius)\n",
    "print(a.area())"
   ]
  },
  {
   "cell_type": "markdown",
   "metadata": {},
   "source": [
    "# 7.2 Define a class named Rectangle which can be constructed by a length and width. The Rectangle class has a method which can compute the area. "
   ]
  },
  {
   "cell_type": "code",
   "execution_count": 243,
   "metadata": {},
   "outputs": [
    {
     "name": "stdout",
     "output_type": "stream",
     "text": [
      "192\n"
     ]
    }
   ],
   "source": [
    "class Rectangle():\n",
    "    def __init__(self, length, width):\n",
    "        self.length = length\n",
    "        self.width = width\n",
    "    def area(self):\n",
    "        return self.length * self.width\n",
    "\n",
    "a = Rectangle(12, 16)\n",
    "print(a.area())"
   ]
  },
  {
   "cell_type": "markdown",
   "metadata": {},
   "source": [
    "# 7.2 Define a class named Shape and its subclass Square. The Square class has an init function which takes a length as argument. Both classes have a area function which can print the area of the shape where Shape's area is 0 by default."
   ]
  },
  {
   "cell_type": "code",
   "execution_count": 244,
   "metadata": {},
   "outputs": [
    {
     "name": "stdout",
     "output_type": "stream",
     "text": [
      "144\n",
      "169\n",
      "0\n"
     ]
    }
   ],
   "source": [
    "class Square():\n",
    "    def __init__(self, length):\n",
    "        self.length = length\n",
    "    def area(self):\n",
    "        return self.length ** 2\n",
    "class Shape(Square):\n",
    "    def areaa(self, length = 0):\n",
    "        return length ** 2\n",
    "\n",
    "a = Square(12)\n",
    "print(a.area())\n",
    "b = Shape(13)\n",
    "print(b.area())\n",
    "print(b.areaa())"
   ]
  },
  {
   "cell_type": "markdown",
   "metadata": {},
   "source": [
    "# Please raise a RuntimeError exception"
   ]
  },
  {
   "cell_type": "markdown",
   "metadata": {},
   "source": [
    "# Write a function to compute 5/0 and use try/except to catch the exceptions."
   ]
  },
  {
   "cell_type": "markdown",
   "metadata": {},
   "source": [
    "# Define a custom exception class which takes a string message asattribute."
   ]
  },
  {
   "cell_type": "markdown",
   "metadata": {},
   "source": [
    "# Assuming that we have some email addresses in the \"username@companyname.com\" format, please write program to print the user name of a given email address. Both user names and company names are composed of letters only.\n",
    "### Example:\n",
    "### If the following email address is given as input to the program:\n",
    "### john@google.com\n",
    "### Then, the output of the program should be:\n",
    "### john\n",
    "### In case of input data being supplied to the question, it should be assumed to be a console input."
   ]
  },
  {
   "cell_type": "code",
   "execution_count": 249,
   "metadata": {},
   "outputs": [
    {
     "name": "stdout",
     "output_type": "stream",
     "text": [
      "Enter your email: john@google.com\n",
      "john\n"
     ]
    }
   ],
   "source": [
    "a = input('Enter your email: ')\n",
    "b = a.find('@')\n",
    "print(a[:b])"
   ]
  },
  {
   "cell_type": "markdown",
   "metadata": {},
   "source": [
    "# Assuming that we have some email addresses in the \"username@companyname.com\" format, please write program to print the company name of a given email address. Both user names and company names are composed of letters only.\n",
    "### Example:\n",
    "### If the following email address is given as input to the program:\n",
    "### john@google.com\n",
    "### Then, the output of the program should be:\n",
    "### google\n",
    "### In case of input data being supplied to the question, it should be assumed to be a console input."
   ]
  },
  {
   "cell_type": "code",
   "execution_count": 251,
   "metadata": {},
   "outputs": [
    {
     "name": "stdout",
     "output_type": "stream",
     "text": [
      "Enter your email: john@google.com\n",
      "google\n"
     ]
    }
   ],
   "source": [
    "a = input('Enter your email: ')\n",
    "b = a.find('@'); c = a.find('.com')\n",
    "print(a[b+1:c])"
   ]
  },
  {
   "cell_type": "markdown",
   "metadata": {},
   "source": [
    "#  Write a program which accepts a sequence of words separated bywhitespace as input to print the words composed of digits only.\n",
    "### Example:\n",
    "### If the following words is given as input to the program:\n",
    "### 2 cats and 3 dogs.\n",
    "### Then, the output of the program should be:\n",
    "### ['2', '3']\n",
    "### In case of input data being supplied to the question, it should be\n",
    "### assumed to be a console input."
   ]
  },
  {
   "cell_type": "code",
   "execution_count": 253,
   "metadata": {},
   "outputs": [
    {
     "name": "stdout",
     "output_type": "stream",
     "text": [
      "Enter a string: 2 cats and 3 dogs.\n",
      "['2', '3']\n"
     ]
    }
   ],
   "source": [
    "a = input('Enter a string: ').split()\n",
    "print([i for i in a if i.isnumeric()])"
   ]
  },
  {
   "cell_type": "markdown",
   "metadata": {},
   "source": [
    "# Print a unicode string \"hello world\"."
   ]
  },
  {
   "cell_type": "markdown",
   "metadata": {},
   "source": [
    "# Write a program to read an ASCII string and to convert it to a unicode string encoded by utf-8."
   ]
  },
  {
   "cell_type": "markdown",
   "metadata": {},
   "source": [
    "# Write a special comment to indicate a Python source code file is in unicode."
   ]
  },
  {
   "cell_type": "markdown",
   "metadata": {},
   "source": [
    "# Write a program to compute 1/2+2/3+3/4+...+n/n+1 with a given n input by console (n>0)."
   ]
  },
  {
   "cell_type": "code",
   "execution_count": 264,
   "metadata": {},
   "outputs": [
    {
     "name": "stdout",
     "output_type": "stream",
     "text": [
      "Enter a number: 10\n",
      "7.980122655122655\n"
     ]
    }
   ],
   "source": [
    "a = int()\n",
    "for i in range(1, int(input('Enter a number: '))+1):\n",
    "    a += i/(i+1)\n",
    "print(a)"
   ]
  },
  {
   "cell_type": "markdown",
   "metadata": {},
   "source": [
    "# Write a program to compute:\n",
    "### f(n)=f(n-1)+100 when n>0\n",
    "### and f(0)=1\n",
    "### with a given n input by console (n>0).\n",
    "### Example:\n",
    "### If the following n is given as input to the program:\n",
    "### 5\n",
    "### Then, the output of the program should be:\n",
    "### 500\n",
    "### In case of input data being supplied to the question, it should be assumed to be a console input."
   ]
  },
  {
   "cell_type": "markdown",
   "metadata": {},
   "source": [
    "# The Fibonacci Sequence is computed based on the following formula:\n",
    "### f(n)=0 if n=0\n",
    "### f(n)=1 if n=1\n",
    "### f(n)=f(n-1)+f(n-2) if n>1\n",
    "### Please write a program to compute the value of f(n) with a given n inputby console.\n",
    "### Example:\n",
    "### If the following n is given as input to the program:\n",
    "### 7\n",
    "### Then, the output of the program should be:\n",
    "### 13\n",
    "### In case of input data being supplied to the question, it should beassumed to be a console input."
   ]
  },
  {
   "cell_type": "code",
   "execution_count": 269,
   "metadata": {},
   "outputs": [
    {
     "name": "stdout",
     "output_type": "stream",
     "text": [
      "13\n"
     ]
    }
   ],
   "source": [
    "def fibonacci(number):\n",
    "    b = [0, 1]\n",
    "    for i in range(number-1): b.append(sum(b[-2:]))\n",
    "    return b[-1]\n",
    "# for testing:\n",
    "print(fibonacci(7))"
   ]
  },
  {
   "cell_type": "markdown",
   "metadata": {},
   "source": [
    "# The Fibonacci Sequence is computed based on the following formula:\n",
    "### f(n)=0 if n=0\n",
    "### f(n)=1 if n=1\n",
    "### f(n)=f(n-1)+f(n-2) if n>1\n",
    "### Please write a program using list comprehension to print the FibonacciSequence in comma separated form with a given n input by console.\n",
    "### Example:\n",
    "### If the following n is given as input to the program:\n",
    "### 7\n",
    "### Then, the output of the program should be:\n",
    "### 0,1,1,2,3,5,8,13"
   ]
  },
  {
   "cell_type": "code",
   "execution_count": 270,
   "metadata": {},
   "outputs": [
    {
     "name": "stdout",
     "output_type": "stream",
     "text": [
      "Enter a number: 7\n",
      "[0, 1, 1, 2, 3, 5, 8, 13]\n"
     ]
    }
   ],
   "source": [
    "a = [0, 1]\n",
    "[a.append(sum(a[-2:])) for i in range(int(input('Enter a number: '))-1)]\n",
    "print(a)"
   ]
  },
  {
   "cell_type": "markdown",
   "metadata": {},
   "source": [
    "# Please write a program using generator to print the even numbers between 0 and n in comma separated form while n is input by console.\n",
    "### Example:\n",
    "### If the following n is given as input to the program:\n",
    "### 10\n",
    "### Then, the output of the program should be:\n",
    "### 0,2,4,6,8,10"
   ]
  },
  {
   "cell_type": "code",
   "execution_count": 272,
   "metadata": {},
   "outputs": [
    {
     "name": "stdout",
     "output_type": "stream",
     "text": [
      "Enter your number: 10\n",
      "[0, 2, 4, 6, 8, 10]\n"
     ]
    }
   ],
   "source": [
    "a = int(input('Enter your number: '))\n",
    "print([i for i in range(a+1) if i % 2 == 0])"
   ]
  },
  {
   "cell_type": "markdown",
   "metadata": {},
   "source": [
    "# Please write a program using generator to print the numbers which can be divisible by 5 and 7 between 0 and n in comma separated form while n is input by console.\n",
    "### Example:\n",
    "### If the following n is given as input to the program:\n",
    "### 100\n",
    "### Then, the output of the program should be:\n",
    "### 0,35,70"
   ]
  },
  {
   "cell_type": "code",
   "execution_count": 274,
   "metadata": {},
   "outputs": [
    {
     "name": "stdout",
     "output_type": "stream",
     "text": [
      "Enter a number: 100\n",
      "[0, 35, 70]\n"
     ]
    }
   ],
   "source": [
    "a = int(input('Enter a number: '))\n",
    "print([i for i in range(a+1) if i % 7 == 0 and i % 5 == 0])"
   ]
  },
  {
   "cell_type": "markdown",
   "metadata": {},
   "source": [
    "# Please write assert statements to verify that every number in the list [2,4,6,8] is even."
   ]
  },
  {
   "cell_type": "code",
   "execution_count": null,
   "metadata": {
    "collapsed": true
   },
   "outputs": [],
   "source": [
    "a = [2, 4, 7, 8]\n",
    "for i in a:\n",
    "    assert i % 2 == 0"
   ]
  },
  {
   "cell_type": "markdown",
   "metadata": {},
   "source": [
    "# Please write a program which accepts basic mathematic expression from console and print the evaluation result.\n",
    "### Example:\n",
    "### If the following string is given as input to the program:\n",
    "### 35+3\n",
    "### Then, the output of the program should be:\n",
    "### 38"
   ]
  },
  {
   "cell_type": "markdown",
   "metadata": {},
   "source": [
    "# Please write a binary search function which searches an item in a sorted list. The function should return the index of element to be searched in the list."
   ]
  },
  {
   "cell_type": "code",
   "execution_count": 286,
   "metadata": {},
   "outputs": [
    {
     "name": "stdout",
     "output_type": "stream",
     "text": [
      "0\tyour number not in provided list\n",
      "1\t0\n",
      "2\t1\n",
      "3\t2\n",
      "4\t3\n",
      "5\t4\n",
      "6\t5\n",
      "7\t6\n",
      "8\t7\n",
      "9\t8\n",
      "10\t9\n",
      "11\tyour number not in provided list\n",
      "12\tyour number not in provided list\n",
      "13\tyour number not in provided list\n",
      "14\tyour number not in provided list\n"
     ]
    }
   ],
   "source": [
    "a = [1, 2, 3, 4, 5, 6, 7, 8, 9, 10]\n",
    "def binary_search(lst, number):\n",
    "    a = 1; lst1 = lst[:]\n",
    "    while a:\n",
    "        if number < lst[len(lst)//2]: lst = lst[:len(lst)//2]\n",
    "        else: lst = lst[len(lst)//2:]\n",
    "        if len(lst) == 1: a = 0\n",
    "    if lst[0] == number: return lst1.index(number)\n",
    "    else: return 'your number not in provided list'\n",
    "# for testing the function\n",
    "for i in range(15):\n",
    "    print(str(i), end='\\t')\n",
    "    print(binary_search(a, i))"
   ]
  },
  {
   "cell_type": "markdown",
   "metadata": {},
   "source": [
    "# Please generate a random float where the value is between 10 and 100"
   ]
  },
  {
   "cell_type": "code",
   "execution_count": 296,
   "metadata": {},
   "outputs": [
    {
     "name": "stdout",
     "output_type": "stream",
     "text": [
      "52.67\n"
     ]
    }
   ],
   "source": [
    "import random\n",
    "print(random.choice([i+(b/100) for i in range(100) for b in range(100)]))"
   ]
  },
  {
   "cell_type": "markdown",
   "metadata": {},
   "source": [
    "# Please generate a random float where the value is between 5 and 95"
   ]
  },
  {
   "cell_type": "code",
   "execution_count": 301,
   "metadata": {},
   "outputs": [
    {
     "name": "stdout",
     "output_type": "stream",
     "text": [
      "91.14\n"
     ]
    }
   ],
   "source": [
    "import random\n",
    "print(random.choice([i+(b/100) for i in range(5, 95) for b in range(100)]))"
   ]
  },
  {
   "cell_type": "markdown",
   "metadata": {},
   "source": [
    "# Please write a program to output a random even number between 0 and 10 inclusive using random module and list comprehension."
   ]
  },
  {
   "cell_type": "code",
   "execution_count": 308,
   "metadata": {},
   "outputs": [
    {
     "name": "stdout",
     "output_type": "stream",
     "text": [
      "8\n"
     ]
    }
   ],
   "source": [
    "import random as r\n",
    "print(r.choice([i for i in range(0, 11, 2)]))"
   ]
  },
  {
   "cell_type": "markdown",
   "metadata": {},
   "source": [
    "# Please write a program to output a random number, which is divisible by 5 or 7, between 0 and 10 inclusive using random module and list comprehension."
   ]
  },
  {
   "cell_type": "code",
   "execution_count": 313,
   "metadata": {},
   "outputs": [
    {
     "name": "stdout",
     "output_type": "stream",
     "text": [
      "5\n"
     ]
    }
   ],
   "source": [
    "import random as r\n",
    "print(r.choice([i for i in range(0, 11) if i % 5 == 0 or i % 7 == 0]))"
   ]
  },
  {
   "cell_type": "markdown",
   "metadata": {},
   "source": [
    "# Please write a program to generate a list with 5 random numbers between 100 and 200 inclusive."
   ]
  },
  {
   "cell_type": "code",
   "execution_count": 315,
   "metadata": {},
   "outputs": [
    {
     "name": "stdout",
     "output_type": "stream",
     "text": [
      "[190, 157, 127, 196, 113]\n"
     ]
    }
   ],
   "source": [
    "import random\n",
    "print([random.randint(100, 200) for i in range(5)])"
   ]
  },
  {
   "cell_type": "markdown",
   "metadata": {},
   "source": [
    "# Please write a program to randomly generate a list with 5 even numbers between 100 and 200 inclusive."
   ]
  },
  {
   "cell_type": "code",
   "execution_count": 316,
   "metadata": {},
   "outputs": [
    {
     "name": "stdout",
     "output_type": "stream",
     "text": [
      "[44, 70, 92, 28, 72]\n"
     ]
    }
   ],
   "source": [
    "import random\n",
    "print([random.choice([b for b in range(0, 101, 2)]) for i in range(5)])"
   ]
  },
  {
   "cell_type": "markdown",
   "metadata": {},
   "source": [
    "# Please write a program to randomly generate a list with 5 numbers, which are divisible by 5 and 7 , between 1 and 1000 inclusive."
   ]
  },
  {
   "cell_type": "code",
   "execution_count": 318,
   "metadata": {},
   "outputs": [
    {
     "name": "stdout",
     "output_type": "stream",
     "text": [
      "[245, 665, 980, 875, 595]\n"
     ]
    }
   ],
   "source": [
    "import random\n",
    "print([random.choice([b for b in range(1, 1001) if b % 5 == 0 and b % 7 == 0]) for i in range(5)])"
   ]
  },
  {
   "cell_type": "markdown",
   "metadata": {},
   "source": [
    "# Please write a program to randomly print a integer number between 7 and 15 inclusive."
   ]
  },
  {
   "cell_type": "code",
   "execution_count": 319,
   "metadata": {},
   "outputs": [
    {
     "name": "stdout",
     "output_type": "stream",
     "text": [
      "10\n"
     ]
    }
   ],
   "source": [
    "from random import randint as r\n",
    "print(r(7, 15))"
   ]
  },
  {
   "cell_type": "markdown",
   "metadata": {},
   "source": [
    "# Please write a program to compress and decompress the string \"hello world! hello world!hello world!hello world!\"."
   ]
  },
  {
   "cell_type": "markdown",
   "metadata": {},
   "source": [
    "# Please write a program to print the running time of execution of \"1+1\" for 100 times."
   ]
  },
  {
   "cell_type": "code",
   "execution_count": 325,
   "metadata": {},
   "outputs": [
    {
     "name": "stdout",
     "output_type": "stream",
     "text": [
      "Duration: 0:00:00.000134\n"
     ]
    }
   ],
   "source": [
    "from datetime import datetime\n",
    "start_time = datetime.now()\n",
    "for i in range(100):\n",
    "    1 + 1\n",
    "end_time = datetime.now()\n",
    "print('Duration: {}'.format(end_time - start_time))"
   ]
  },
  {
   "cell_type": "markdown",
   "metadata": {},
   "source": [
    "# Please write a program to shuffle and print the list [3,6,7,8]."
   ]
  },
  {
   "cell_type": "code",
   "execution_count": 328,
   "metadata": {},
   "outputs": [
    {
     "name": "stdout",
     "output_type": "stream",
     "text": [
      "[3, 7, 8, 6]\n"
     ]
    }
   ],
   "source": [
    "import random\n",
    "a = list(); lst = [3,6,7,8]; count = 0\n",
    "while len(a) != len(lst):\n",
    "    b = random.choice(lst)\n",
    "    if b not in a: a.append(b)\n",
    "print(a)"
   ]
  },
  {
   "cell_type": "markdown",
   "metadata": {},
   "source": [
    "# Please write a program to generate all sentences where subject is in [\"I\", \"You\"] and verb is in [\"Play\", \"Love\"] and the object is in [\"Hockey\",\"Football\"]."
   ]
  },
  {
   "cell_type": "code",
   "execution_count": 329,
   "metadata": {},
   "outputs": [
    {
     "name": "stdout",
     "output_type": "stream",
     "text": [
      "I Play Hockey\n",
      "I Play Football\n",
      "I Love Hockey\n",
      "I Love Football\n",
      "You Play Hockey\n",
      "You Play Football\n",
      "You Love Hockey\n",
      "You Love Football\n"
     ]
    }
   ],
   "source": [
    "a = [\"I\", \"You\"] ; b = [\"Play\", \"Love\"]; c = [\"Hockey\",\"Football\"]\n",
    "for i in a:\n",
    "    for z in b:\n",
    "        for q in c:\n",
    "            print(i + ' ' + z + ' ' + q)"
   ]
  },
  {
   "cell_type": "markdown",
   "metadata": {},
   "source": [
    "# Please write a program to print the list after removing delete even numbers in [5,6,77,45,22,12,24]."
   ]
  },
  {
   "cell_type": "code",
   "execution_count": 343,
   "metadata": {},
   "outputs": [
    {
     "name": "stdout",
     "output_type": "stream",
     "text": [
      "[5, 77, 45]\n"
     ]
    }
   ],
   "source": [
    "a = [5,6,77,45,22,12,24]\n",
    "for i in [i for i in a if i % 2 == 0]: a.remove(i)\n",
    "print(a)"
   ]
  },
  {
   "cell_type": "markdown",
   "metadata": {},
   "source": [
    "# By using list comprehension, please write a program to print the list after removing delete numbers which are divisible by 5 and 7 in [12,24,35,70,88,120,155]."
   ]
  },
  {
   "cell_type": "code",
   "execution_count": 344,
   "metadata": {},
   "outputs": [
    {
     "name": "stdout",
     "output_type": "stream",
     "text": [
      "[12, 24, 88, 120, 155]\n"
     ]
    }
   ],
   "source": [
    "a = [12,24,35,70,88,120,155]\n",
    "[a.remove(z) for z in [i for i in a if i % 7 == 0 and i % 5 == 0]]\n",
    "print(a)"
   ]
  },
  {
   "cell_type": "markdown",
   "metadata": {},
   "source": [
    "# By using list comprehension, please write a program to print the list after removing the 0th, 2nd, 4th,6th numbers in [12,24,35,70,88,120,155]."
   ]
  },
  {
   "cell_type": "code",
   "execution_count": 347,
   "metadata": {},
   "outputs": [
    {
     "name": "stdout",
     "output_type": "stream",
     "text": [
      "[24, 70, 120]\n"
     ]
    }
   ],
   "source": [
    "a = [12,24,35,70,88,120,155]\n",
    "[a.remove(i) for i in a[::2]]\n",
    "print(a)"
   ]
  },
  {
   "cell_type": "markdown",
   "metadata": {},
   "source": [
    "# By using list comprehension, please write a program generate a 3*5*8 3D array whose each element is 0."
   ]
  },
  {
   "cell_type": "code",
   "execution_count": 350,
   "metadata": {},
   "outputs": [
    {
     "data": {
      "text/plain": [
       "[[[0, 0, 0], [0, 0, 0], [0, 0, 0], [0, 0, 0], [0, 0, 0]],\n",
       " [[0, 0, 0], [0, 0, 0], [0, 0, 0], [0, 0, 0], [0, 0, 0]],\n",
       " [[0, 0, 0], [0, 0, 0], [0, 0, 0], [0, 0, 0], [0, 0, 0]],\n",
       " [[0, 0, 0], [0, 0, 0], [0, 0, 0], [0, 0, 0], [0, 0, 0]],\n",
       " [[0, 0, 0], [0, 0, 0], [0, 0, 0], [0, 0, 0], [0, 0, 0]],\n",
       " [[0, 0, 0], [0, 0, 0], [0, 0, 0], [0, 0, 0], [0, 0, 0]],\n",
       " [[0, 0, 0], [0, 0, 0], [0, 0, 0], [0, 0, 0], [0, 0, 0]],\n",
       " [[0, 0, 0], [0, 0, 0], [0, 0, 0], [0, 0, 0], [0, 0, 0]]]"
      ]
     },
     "execution_count": 350,
     "metadata": {},
     "output_type": "execute_result"
    }
   ],
   "source": [
    "[i for i in [[[0 for i in range(3)]for z in range(5)]for q in range(8)]]"
   ]
  },
  {
   "cell_type": "markdown",
   "metadata": {},
   "source": [
    "# By using list comprehension, please write a program to print the list after removing the 0th,4th,5th numbers in [12,24,35,70,88,120,155]."
   ]
  },
  {
   "cell_type": "code",
   "execution_count": 351,
   "metadata": {},
   "outputs": [
    {
     "name": "stdout",
     "output_type": "stream",
     "text": [
      "[24, 35, 70, 155]\n"
     ]
    }
   ],
   "source": [
    "a = [12,24,35,70,88,120,155]\n",
    "[a.remove(a[i]) for i in (5,4,0)]\n",
    "print(a)"
   ]
  },
  {
   "cell_type": "markdown",
   "metadata": {},
   "source": [
    "# By using list comprehension, please write a program to print the list after removing the value 24 in [12,24,35,24,88,120,155]."
   ]
  },
  {
   "cell_type": "code",
   "execution_count": 352,
   "metadata": {},
   "outputs": [
    {
     "name": "stdout",
     "output_type": "stream",
     "text": [
      "[12, 35, 88, 120, 155]\n"
     ]
    }
   ],
   "source": [
    "a = [12,24,35,24,88,120,155]\n",
    "[a.remove(i) for i in a if i == 24]\n",
    "print(a)"
   ]
  },
  {
   "cell_type": "markdown",
   "metadata": {},
   "source": [
    "# With two given lists [1,3,6,78,35,55] and [12,24,35,24,88,120,155], write a program to make a list whose elements are inter section of the above given lists."
   ]
  },
  {
   "cell_type": "code",
   "execution_count": 353,
   "metadata": {},
   "outputs": [
    {
     "name": "stdout",
     "output_type": "stream",
     "text": [
      "[35]\n"
     ]
    }
   ],
   "source": [
    "a = [1,3,6,78,35,55]\n",
    "b = [12,24,35,24,88,120,155]\n",
    "print([i for i in list(set(b)) if i in list(set(a))])"
   ]
  },
  {
   "cell_type": "markdown",
   "metadata": {},
   "source": [
    "# With a given list [12,24,35,24,88,120,155,88,120,155], write a program to print this list after removing all duplicate values with original order reserved."
   ]
  },
  {
   "cell_type": "code",
   "execution_count": 359,
   "metadata": {},
   "outputs": [
    {
     "name": "stdout",
     "output_type": "stream",
     "text": [
      "[155, 120, 88, 35, 24, 12]\n"
     ]
    }
   ],
   "source": [
    "a = [12,24,35,24,88,120,155,88,120,155]\n",
    "[a.remove(a[b]) for b in [-i for i in range(1,len(set(a)))] if a.count(a[b]) > 1]\n",
    "print(sorted(a, reverse=True))"
   ]
  },
  {
   "cell_type": "markdown",
   "metadata": {},
   "source": [
    "# Define a class Person and its two child classes: Male and Female. All classes have a method \"getGender\" which can print \"Male\" for Male class and \"Female\" for Female class."
   ]
  },
  {
   "cell_type": "code",
   "execution_count": 360,
   "metadata": {},
   "outputs": [
    {
     "name": "stdout",
     "output_type": "stream",
     "text": [
      "Male\n",
      "Female\n"
     ]
    }
   ],
   "source": [
    "class Person():\n",
    "    \"\"\" \"\"\"\n",
    "class Male(Person):\n",
    "    def getGender(self):\n",
    "        print('Male')\n",
    "class Female(Person):\n",
    "    def getGender(self):\n",
    "        print('Female')\n",
    "\n",
    "amir = Male()\n",
    "hamna = Female()\n",
    "amir.getGender()\n",
    "hamna.getGender()http://localhost:8888/notebooks/Untitled17.ipynb?kernel_name=python3#abcdefgabc"
   ]
  },
  {
   "cell_type": "markdown",
   "metadata": {},
   "source": [
    "# Please write a program which count and print the numbers of each character in a string input by console.\n",
    "### Example:\n",
    "### If the following string is given as input to the program:\n",
    "### abcdefgabc\n",
    "### Then, the output of the program should be:\n",
    "### a,2\n",
    "### c,2\n",
    "### b,2\n",
    "### e,1\n",
    "### d,1\n",
    "### g,1\n",
    "### f,1"
   ]
  },
  {
   "cell_type": "code",
   "execution_count": 362,
   "metadata": {},
   "outputs": [
    {
     "name": "stdout",
     "output_type": "stream",
     "text": [
      "Enter a string: abcdefgabc\n",
      "c 2\n",
      "f 1\n",
      "b 2\n",
      "e 1\n",
      "a 2\n",
      "g 1\n",
      "d 1\n"
     ]
    }
   ],
   "source": [
    "a = input('Enter a string: ')\n",
    "b = list(set(a))\n",
    "for i in b: print(i, str(a.count(i)))"
   ]
  },
  {
   "cell_type": "markdown",
   "metadata": {},
   "source": [
    "# Please write a program which accepts a string from console and print it in reverse order.\n",
    "### Example:\n",
    "### If the following string is given as input to the program:\n",
    "### rise to vote sir\n",
    "### Then, the output of the program should be:\n",
    "### ris etov ot esir"
   ]
  },
  {
   "cell_type": "code",
   "execution_count": 363,
   "metadata": {},
   "outputs": [
    {
     "name": "stdout",
     "output_type": "stream",
     "text": [
      "Enter your string: rise to vote sir\n",
      "ris etov ot esir"
     ]
    }
   ],
   "source": [
    "a = input('Enter your string: ')\n",
    "b = [print(a[i],end='')for i in [-b for b in range(1, len(a)+1)]]"
   ]
  },
  {
   "cell_type": "markdown",
   "metadata": {},
   "source": [
    "# Please write a program which accepts a string from console and print thevcharacters that have even indexes.\n",
    "### Example:\n",
    "### If the following string is given as input to the program:\n",
    "### H1e2l3l4o5w6o7r8l9d\n",
    "### Then, the output of the program should be:\n",
    "### Helloworld"
   ]
  },
  {
   "cell_type": "code",
   "execution_count": 370,
   "metadata": {},
   "outputs": [
    {
     "name": "stdout",
     "output_type": "stream",
     "text": [
      "Helloworld"
     ]
    },
    {
     "data": {
      "text/plain": [
       "[None, None, None, None, None, None, None, None, None, None]"
      ]
     },
     "execution_count": 370,
     "metadata": {},
     "output_type": "execute_result"
    }
   ],
   "source": [
    "a = 'H1e2l3l4o5w6o7r8l9d'\n",
    "[print(a[i],end='') for i in range(0, len(a), 2)]"
   ]
  },
  {
   "cell_type": "markdown",
   "metadata": {},
   "source": [
    "# Please write a program which prints all permutations of [1,2,3]"
   ]
  },
  {
   "cell_type": "code",
   "execution_count": 376,
   "metadata": {},
   "outputs": [
    {
     "name": "stdout",
     "output_type": "stream",
     "text": [
      "[(1, 2, 3), (1, 3, 2), (2, 1, 3), (2, 3, 1), (3, 1, 2), (3, 2, 1)]\n"
     ]
    }
   ],
   "source": [
    "import itertools\n",
    "a = [1,2,3]\n",
    "print([i for i in itertools.permutations(a)])"
   ]
  },
  {
   "cell_type": "code",
   "execution_count": null,
   "metadata": {
    "collapsed": true
   },
   "outputs": [],
   "source": []
  }
 ],
 "metadata": {
  "kernelspec": {
   "display_name": "Python 3",
   "language": "python",
   "name": "python3"
  },
  "language_info": {
   "codemirror_mode": {
    "name": "ipython",
    "version": 3
   },
   "file_extension": ".py",
   "mimetype": "text/x-python",
   "name": "python",
   "nbconvert_exporter": "python",
   "pygments_lexer": "ipython3",
   "version": "3.6.3"
  }
 },
 "nbformat": 4,
 "nbformat_minor": 2
}
