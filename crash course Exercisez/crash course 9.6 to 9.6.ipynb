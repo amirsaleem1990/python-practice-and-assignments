{
 "cells": [
  {
   "cell_type": "code",
   "execution_count": 43,
   "metadata": {
    "collapsed": false
   },
   "outputs": [
    {
     "name": "stdout",
     "output_type": "stream",
     "text": [
      "Enter your flavors sapareted by space: mango pista\n",
      "flavors list: \n",
      "mango\n",
      "pista\n"
     ]
    },
    {
     "data": {
      "text/plain": [
       "'********'"
      ]
     },
     "execution_count": 43,
     "metadata": {},
     "output_type": "execute_result"
    }
   ],
   "source": [
    "'''\n",
    "9-6. Ice Cream Stand: An ice cream stand is a specific kind of restaurant\n",
    "Write a class called IceCreamStand that inherits from the Restaurant \n",
    "class you wrote in Exercise 9-1 (page 166) or Exercise 9-4 (page 171) \n",
    "Either version of the class will work; just pick the one you like better \n",
    "Add an attribute called flavors that stores a list of ice cream flavors \n",
    "Write a method that displays these flavors Create an instance of \n",
    "IceCreamStand, and call this method\n",
    "'''\n",
    "class Restaurant():\n",
    "    def __init__(self, restaurant_name, cuisine_type):\n",
    "        self.n = restaurant_name\n",
    "        self.c = cuisine_type\n",
    "\n",
    "    def describe_restaurant(self):\n",
    "        print('Restaurant name: {}, Cuisine: {}'.format(self.n, self.c))\n",
    "\n",
    "    def open_restaurant(self):\n",
    "        print('The {} restaurant is open'.format(self.n.title()))\n",
    "\n",
    "class IceCreamStand(Restaurant):\n",
    "    def __init__(self , restaurant_name, cuisine_type) :\n",
    "       super().__init__(restaurant_name, cuisine_type)\n",
    "       self.flavors = input('Enter your flavors sapareted by space: ').split()\n",
    "    def print_flavors(self):\n",
    "       print('flavors list: ')\n",
    "       [print(i) for i in self.flavors]; return '********'\n",
    "\n",
    "# testing: \n",
    "a = IceCreamStand('karachi', 'icecream')\n",
    "a.print_flavors()\n"
   ]
  },
  {
   "cell_type": "code",
   "execution_count": 44,
   "metadata": {
    "collapsed": false
   },
   "outputs": [
    {
     "name": "stdout",
     "output_type": "stream",
     "text": [
      "amir saleem is admin, he has these priviliges: \n",
      "can add someone\n",
      "can remove posts\n"
     ]
    },
    {
     "data": {
      "text/plain": [
       "'*******'"
      ]
     },
     "execution_count": 44,
     "metadata": {},
     "output_type": "execute_result"
    }
   ],
   "source": [
    "'''\n",
    "9-7. Admin: An administrator is a special kind of user Write a class \n",
    "called Admin that inherits from the User class you wrote in Exercise 9-3\n",
    "(page 166) or Exercise 9-5 (page 171) Add an attribute, privileges, that \n",
    "stores a list of strings like \"can add post\", \"can delete post\", \"can ban\n",
    "user\", and so on Write a method called show_privileges() that lists the\n",
    "administrator’s set of privileges Create an instance of Admin, and call \n",
    "your method\n",
    "'''\n",
    "class User():\n",
    "    def __init__(self, first_name, last_name):\n",
    "        self.fn = first_name\n",
    "        self.ln = last_name\n",
    "    def describe_user(self):\n",
    "        print('First name: {} \\nLast name: {}'.format(self.fn, self.ln))\n",
    "    def greet_user(self):\n",
    "        print('welcome {} {}'.format(self.fn, self.ln))\n",
    "    \n",
    "class Admin(User):\n",
    "    def __init__(self , first_name, last_name):\n",
    "       super().__init__(first_name , last_name )\n",
    "       self.priviliges = list()\n",
    "    def show_privileges(self):\n",
    "       print('{} {} is admin, he has these priviliges: '.format(self.fn, self.ln,))\n",
    "       [print(i) for i in self.priviliges]; return '*******'\n",
    "\n",
    "# testing:\n",
    "amir = Admin('amir', 'saleem')\n",
    "amir.priviliges = ['can add someone', 'can remove posts']\n",
    "amir.show_privileges()"
   ]
  },
  {
   "cell_type": "code",
   "execution_count": 45,
   "metadata": {
    "collapsed": false
   },
   "outputs": [
    {
     "name": "stdout",
     "output_type": "stream",
     "text": [
      "Admin has these priviliges: \n",
      "can add posts\n",
      "can remove posts\n",
      "can delete group\n"
     ]
    },
    {
     "data": {
      "text/plain": [
       "'*******'"
      ]
     },
     "execution_count": 45,
     "metadata": {},
     "output_type": "execute_result"
    }
   ],
   "source": [
    "'''\n",
    "9-8. Privileges: Write a separate Privileges class The class should have \n",
    "one attribute, privileges, that stores a list of strings as described in \n",
    "Exercise 9-7 \n",
    "Move the show_privileges() method to this class Make a \n",
    "Privileges instance as an attribute in the Admin class Create a new \n",
    "instance of Admin and use your method to show its privileges.\n",
    "'''\n",
    "class Privileges():\n",
    "    def __init__(self):\n",
    "        self.privileges = list()\n",
    "    def show_privileges(self):\n",
    "       print('Admin has these priviliges: ')\n",
    "       [print(i) for i in self.privileges]; return '*******'\n",
    "class Admin(Privileges):\n",
    "    def __init__(self):\n",
    "        self.p = Privileges()\n",
    "\n",
    "# testing:\n",
    "amir = Admin()\n",
    "amir.p.privileges = ['can add posts', 'can remove posts', 'can delete group']\n",
    "amir.p.show_privileges()"
   ]
  },
  {
   "cell_type": "code",
   "execution_count": 47,
   "metadata": {
    "collapsed": false
   },
   "outputs": [
    {
     "name": "stdout",
     "output_type": "stream",
     "text": [
      "This car can go approximately 240 miles on a full charge.\n",
      "This car can go approximately 270 miles on a full charge.\n"
     ]
    }
   ],
   "source": [
    "'''\n",
    "9-9. Battery Upgrade: Use the final version of electric_car.py from this \n",
    "section Add a method to the Battery class called upgrade_battery() This \n",
    "method should check the battery size and set the capacity to 85 if it \n",
    "isn’t already Make an electric car with a default battery size, call \n",
    "get_range() once, and then call get_range() a second time after upgrading\n",
    "the battery You should see an increase in the car’s range\n",
    "'''\n",
    "class Car():\n",
    "    def __init__(self, make, model, year):\n",
    "        self.make = make; self.model = model; self.year = year; self.odometer_reading = 0\n",
    "    def get_descriptive_name(self):\n",
    "        long_name = str(self.year) + ' ' + self.make + ' ' + self.model\n",
    "        return long_name.title()\n",
    "    def read_odometer(self):\n",
    "        print(\"This car has \" + str(self.odometer_reading) + \" miles on it.\")\n",
    "    def update_odometer(self, mileage):\n",
    "        if mileage >= self.odometer_reading: self.odometer_reading = mileage\n",
    "        else: print(\"You can't roll back an odometer!\")\n",
    "    def increment_odometer(self, miles):\n",
    "        self.odometer_reading += miles\n",
    "\n",
    "        \n",
    "class Battery():\n",
    "    def __init__(self, battery_size=70):\n",
    "        self.battery_size = battery_size\n",
    "    def describe_battery(self):\n",
    "        print(\"This car has a \" + str(self.battery_size) + \"-kWh battery.\")\n",
    "\n",
    "    def get_range(self):\n",
    "        if self.battery_size == 70: range = 240\n",
    "        elif self.battery_size == 85: range = 270\n",
    "        message = \"This car can go approximately \" + str(range)\n",
    "        message += \" miles on a full charge.\"\n",
    "        print(message)\n",
    "    def  upgrade_battery(self):\n",
    "        if self.battery_size != 85: self.battery_size = 85\n",
    "\n",
    "        \n",
    "class ElectricCar(Car):\n",
    "    def __init__(self, make, model, year):\n",
    "        super().__init__(make, model, year)\n",
    "        self.battery = Battery()\n",
    "    def describe_battery(self):\n",
    "        print(\"This car has a \" + str(self.battery_size) + \"-kWh battery.\")\n",
    "    def fill_gas_tank():\n",
    "        print(\"This car doesn't need a gas tank!\")\n",
    "\n",
    "# testing:\n",
    "my_car = ElectricCar('honda', 'city', '2014')\n",
    "my_car.battery.get_range()\n",
    "my_car.battery.upgrade_battery()\n",
    "my_car.battery.get_range()"
   ]
  },
  {
   "cell_type": "code",
   "execution_count": null,
   "metadata": {
    "collapsed": true
   },
   "outputs": [],
   "source": []
  }
 ],
 "metadata": {
  "kernelspec": {
   "display_name": "Python 3",
   "language": "python",
   "name": "python3"
  },
  "language_info": {
   "codemirror_mode": {
    "name": "ipython",
    "version": 3
   },
   "file_extension": ".py",
   "mimetype": "text/x-python",
   "name": "python",
   "nbconvert_exporter": "python",
   "pygments_lexer": "ipython3",
   "version": "3.6.3"
  },
  "widgets": {
   "application/vnd.jupyter.widget-state+json": {
    "state": {},
    "version_major": 1,
    "version_minor": 0
   }
  }
 },
 "nbformat": 4,
 "nbformat_minor": 2
}
