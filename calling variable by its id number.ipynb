{
 "cells": [
  {
   "cell_type": "code",
   "execution_count": 2,
   "metadata": {},
   "outputs": [
    {
     "name": "stdout",
     "output_type": "stream",
     "text": [
      "FIRST_A\n",
      "FIRST_A\n"
     ]
    }
   ],
   "source": [
    "import ctypes\n",
    "a = \"first_a\".upper() # string variable banaya\n",
    "bb = id(a)            # or phir memory me us ka address (bb) me save kar lya\n",
    "# print('first b id:', bb) # 140286320581576 ... is time mery system my (a) variable ka ye address h\n",
    "print(ctypes.cast(bb, ctypes.py_object).value ) # ham ny (a) ko us ki id use karty hwy print karwa dya\n",
    "a = 'second_a'.upper() # 1 or string variable banaya jis ka name bhi (a) hi rakha.. to (a) override ho gya, yani k ab ham pehly (a) ko use nahi kar sakty\n",
    "print(ctypes.cast(bb, ctypes.py_object).value ) # ab ham ny sab sy pehly waly 1 ko us ki id use karty hwy print kara dya,, "
   ]
  },
  {
   "cell_type": "code",
   "execution_count": null,
   "metadata": {
    "collapsed": true
   },
   "outputs": [],
   "source": []
  }
 ],
 "metadata": {
  "kernelspec": {
   "display_name": "Python 3",
   "language": "python",
   "name": "python3"
  },
  "language_info": {
   "codemirror_mode": {
    "name": "ipython",
    "version": 3
   },
   "file_extension": ".py",
   "mimetype": "text/x-python",
   "name": "python",
   "nbconvert_exporter": "python",
   "pygments_lexer": "ipython3",
   "version": "3.6.4"
  }
 },
 "nbformat": 4,
 "nbformat_minor": 2
}
